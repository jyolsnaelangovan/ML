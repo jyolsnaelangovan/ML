{
 "cells": [
  {
   "cell_type": "code",
   "execution_count": null,
   "id": "49c3125a",
   "metadata": {},
   "outputs": [],
   "source": [
    "import numpy as np\n",
    "x=np.array([[1,2,3],[4,5,6]])\n",
    "print(\"x:\\n{}\".format(x))"
   ]
  },
  {
   "cell_type": "code",
   "execution_count": null,
   "id": "bde9b740",
   "metadata": {
    "scrolled": false
   },
   "outputs": [],
   "source": [
    "from scipy import sparse\n",
    "\n",
    "eye=np.eye(4)\n",
    "print(\"NumpPy array:\\n{}\".format(eye))"
   ]
  },
  {
   "cell_type": "code",
   "execution_count": null,
   "id": "f2e6db22",
   "metadata": {},
   "outputs": [],
   "source": [
    "sparse_matrix= sparse.csr_matrix(eye)\n",
    "print(\"CSR Matrix: \\n{}\".format(sparse_matrix))"
   ]
  },
  {
   "cell_type": "code",
   "execution_count": null,
   "id": "4321b6fe",
   "metadata": {},
   "outputs": [],
   "source": [
    "data= np.ones(4)\n",
    "print(\"data: \\n{}\".format(data))\n",
    "row_indices = np.arange(4)\n",
    "col_indices = np.arange(4)\n",
    "print(\"row_indices: \\n{}\".format(row_indices))\n",
    "print(\"col_indices: \\n{}\".format(col_indices))\n",
    "eye_coo1 = sparse.coo_matrix(data)\n",
    "eye_coo2 = sparse.coo_matrix((data, (row_indices,col_indices)))\n",
    "print(\"eye_coo1: \\n{}\".format(eye_coo1))\n",
    "print(\"eye_coo2: \\n{}\".format(eye_coo2))"
   ]
  },
  {
   "cell_type": "code",
   "execution_count": null,
   "id": "891b3842",
   "metadata": {},
   "outputs": [],
   "source": [
    "%matplotlib inline\n",
    "import matplotlib.pyplot as plt\n",
    "\n",
    "x=np.linspace (-10, 10, 100)\n",
    "y=np.sin(x)\n",
    "plt.plot(x, y, 'r+')\n",
    "#plt.show (True)"
   ]
  },
  {
   "cell_type": "code",
   "execution_count": null,
   "id": "61b89de0",
   "metadata": {},
   "outputs": [],
   "source": [
    "import pandas as pd\n",
    "from IPython.display import display\n",
    "\n",
    "data = {'Name':['Harry', 'Dora', 'Barbie'],\n",
    "        'Location': ['Hogwarts', 'San Diego', 'Malibu' ],\n",
    "        'Age': [16, 7, 18]}\n",
    "data_pandas= pd.DataFrame(data)\n",
    "display(data_pandas)"
   ]
  },
  {
   "cell_type": "code",
   "execution_count": null,
   "id": "964a8622",
   "metadata": {},
   "outputs": [],
   "source": [
    "display(data_pandas[data_pandas.Age>=16])"
   ]
  },
  {
   "cell_type": "code",
   "execution_count": 9,
   "id": "0fc33d0b",
   "metadata": {},
   "outputs": [
    {
     "name": "stdout",
     "output_type": "stream",
     "text": [
      "Python version: \n",
      "3.8.8 (default, Apr 13 2021, 15:08:03) [MSC v.1916 64 bit (AMD64)]\n",
      "Pandas version: \n",
      "1.2.4\n",
      "MatPlotLib version: \n",
      "3.3.4\n",
      "NumPy version: \n",
      "1.20.1\n",
      "SciPy version: \n",
      "1.6.2\n",
      "IPython version: \n",
      "7.22.0\n",
      "scikit-learn version: \n",
      "0.24.1\n"
     ]
    }
   ],
   "source": [
    "#versions\n",
    "\n",
    "import sys\n",
    "print(\"Python version: \\n{}\".format (sys.version))\n",
    "import pandas as pd\n",
    "print(\"Pandas version: \\n{}\".format (pd.__version__))\n",
    "import matplotlib as mpl\n",
    "print(\"MatPlotLib version: \\n{}\".format (mpl.__version__))\n",
    "import numpy as np\n",
    "print(\"NumPy version: \\n{}\".format (np.__version__))\n",
    "import scipy as sp\n",
    "print(\"SciPy version: \\n{}\".format (sp.__version__))\n",
    "import IPython as ip\n",
    "print(\"IPython version: \\n{}\".format (ip.__version__))\n",
    "import sklearn as skl\n",
    "print(\"scikit-learn version: \\n{}\".format (skl.__version__))"
   ]
  },
  {
   "cell_type": "code",
   "execution_count": null,
   "id": "924ffaa0",
   "metadata": {},
   "outputs": [],
   "source": []
  }
 ],
 "metadata": {
  "kernelspec": {
   "display_name": "Python 3",
   "language": "python",
   "name": "python3"
  },
  "language_info": {
   "codemirror_mode": {
    "name": "ipython",
    "version": 3
   },
   "file_extension": ".py",
   "mimetype": "text/x-python",
   "name": "python",
   "nbconvert_exporter": "python",
   "pygments_lexer": "ipython3",
   "version": "3.8.8"
  }
 },
 "nbformat": 4,
 "nbformat_minor": 5
}
